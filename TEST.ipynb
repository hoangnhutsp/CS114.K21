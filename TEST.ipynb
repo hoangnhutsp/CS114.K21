{
  "nbformat": 4,
  "nbformat_minor": 0,
  "metadata": {
    "colab": {
      "name": "TEST.ipynb",
      "provenance": [],
      "authorship_tag": "ABX9TyNA6IXyoLAm7TZOJTFgUqpn",
      "include_colab_link": true
    },
    "kernelspec": {
      "name": "python3",
      "display_name": "Python 3"
    }
  },
  "cells": [
    {
      "cell_type": "markdown",
      "metadata": {
        "id": "view-in-github",
        "colab_type": "text"
      },
      "source": [
        "<a href=\"https://colab.research.google.com/github/hoangnhutsp/CS114.K21/blob/master/TEST.ipynb\" target=\"_parent\"><img src=\"https://colab.research.google.com/assets/colab-badge.svg\" alt=\"Open In Colab\"/></a>"
      ]
    },
    {
      "cell_type": "code",
      "metadata": {
        "id": "Wr1IHZWjPryE",
        "colab_type": "code",
        "outputId": "0f43e6cf-81a9-4a6a-8607-aa44b4fe677e",
        "colab": {
          "base_uri": "https://localhost:8080/",
          "height": 34
        }
      },
      "source": [
        "import time\n",
        "print(time.ctime())"
      ],
      "execution_count": 1,
      "outputs": [
        {
          "output_type": "stream",
          "text": [
            "Thu Apr  9 02:07:29 2020\n"
          ],
          "name": "stdout"
        }
      ]
    },
    {
      "cell_type": "code",
      "metadata": {
        "id": "9hJdKhACrtC4",
        "colab_type": "code",
        "colab": {
          "base_uri": "https://localhost:8080/",
          "height": 34
        },
        "outputId": "f23e9756-aa60-49ea-e867-b90f979b2aac"
      },
      "source": [
        "time.sleep(5)\n",
        "print (time.ctime())\n"
      ],
      "execution_count": 2,
      "outputs": [
        {
          "output_type": "stream",
          "text": [
            "Thu Apr  9 02:07:34 2020\n"
          ],
          "name": "stdout"
        }
      ]
    }
  ]
}