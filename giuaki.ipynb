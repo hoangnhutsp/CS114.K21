{
  "nbformat": 4,
  "nbformat_minor": 0,
  "metadata": {
    "colab": {
      "name": "giuaki.ipynb",
      "provenance": [],
      "collapsed_sections": [],
      "authorship_tag": "ABX9TyPuPinRoy7BIQNYFHasXZtd",
      "include_colab_link": true
    },
    "kernelspec": {
      "name": "python3",
      "display_name": "Python 3"
    }
  },
  "cells": [
    {
      "cell_type": "markdown",
      "metadata": {
        "id": "view-in-github",
        "colab_type": "text"
      },
      "source": [
        "<a href=\"https://colab.research.google.com/github/hoangnhutsp/CS114.K21/blob/master/giuaki.ipynb\" target=\"_parent\"><img src=\"https://colab.research.google.com/assets/colab-badge.svg\" alt=\"Open In Colab\"/></a>"
      ]
    },
    {
      "cell_type": "markdown",
      "metadata": {
        "id": "2KkNTMw3zWd2",
        "colab_type": "text"
      },
      "source": [
        "Load dữ liệu từ GITHUB"
      ]
    },
    {
      "cell_type": "code",
      "metadata": {
        "id": "MI32O_b3rTSM",
        "colab_type": "code",
        "outputId": "bcfda6cd-b025-40fa-9cde-279f68b487c2",
        "colab": {
          "base_uri": "https://localhost:8080/",
          "height": 126
        }
      },
      "source": [
        "!git clone \"https://github.com/hoangnhutsp/CS114.K21.git\"\n",
        "\n"
      ],
      "execution_count": 0,
      "outputs": [
        {
          "output_type": "stream",
          "text": [
            "Cloning into 'CS114.K21'...\n",
            "remote: Enumerating objects: 15, done.\u001b[K\n",
            "remote: Counting objects: 100% (15/15), done.\u001b[K\n",
            "remote: Compressing objects: 100% (11/11), done.\u001b[K\n",
            "remote: Total 15 (delta 3), reused 0 (delta 0), pack-reused 0\u001b[K\n",
            "Unpacking objects: 100% (15/15), done.\n"
          ],
          "name": "stdout"
        }
      ]
    },
    {
      "cell_type": "code",
      "metadata": {
        "id": "J5-dnCYhyOAd",
        "colab_type": "code",
        "outputId": "5cfe5e03-988b-4ce2-e1d6-2ad923eed42c",
        "colab": {
          "base_uri": "https://localhost:8080/",
          "height": 35
        }
      },
      "source": [
        "cd CS114.K21/"
      ],
      "execution_count": 0,
      "outputs": [
        {
          "output_type": "stream",
          "text": [
            "/content/CS114.K21/CS114.K21\n"
          ],
          "name": "stdout"
        }
      ]
    },
    {
      "cell_type": "code",
      "metadata": {
        "id": "f5v4SmEExlnC",
        "colab_type": "code",
        "colab": {}
      },
      "source": [
        "import pandas as pd\n",
        "import matplotlib.pyplot as plt"
      ],
      "execution_count": 0,
      "outputs": []
    },
    {
      "cell_type": "code",
      "metadata": {
        "id": "-Fv62l8nxnC4",
        "colab_type": "code",
        "colab": {}
      },
      "source": [
        "data = pd.read_csv('data2.txt', sep = ',', header = None)\n",
        "data.columns = ['Size', 'Time']\n",
        "\n",
        "X = data.iloc[:, 0].values.reshape(-1, 1)\n",
        "Y = data.iloc[:, 1]"
      ],
      "execution_count": 0,
      "outputs": []
    },
    {
      "cell_type": "markdown",
      "metadata": {
        "id": "wlmxyve104yQ",
        "colab_type": "text"
      },
      "source": [
        "In dữ liệu vừa load từ GITHUB"
      ]
    },
    {
      "cell_type": "code",
      "metadata": {
        "id": "6_p4Blwe0t70",
        "colab_type": "code",
        "outputId": "a37f3e5a-dd6c-42f9-a403-015aee50c628",
        "colab": {
          "base_uri": "https://localhost:8080/",
          "height": 279
        }
      },
      "source": [
        "plt.plot(X, Y, 'ro')\n",
        "plt.xlabel('SIZE')\n",
        "plt.ylabel('TIME')\n",
        "plt.show()"
      ],
      "execution_count": 0,
      "outputs": [
        {
          "output_type": "display_data",
          "data": {
            "image/png": "[encoded data removed]",
            "text/plain": [
              "<Figure size 432x288 with 1 Axes>"
            ]
          },
          "metadata": {
            "tags": [],
            "needs_background": "light"
          }
        }
      ]
    },
    {
      "cell_type": "markdown",
      "metadata": {
        "id": "lDjHvZcX1Bv6",
        "colab_type": "text"
      },
      "source": [
        "Chia dữ liệu thành tập train và test\n"
      ]
    },
    {
      "cell_type": "code",
      "metadata": {
        "id": "E3EKmV9dxolF",
        "colab_type": "code",
        "colab": {}
      },
      "source": [
        "from sklearn.model_selection import train_test_split\n",
        "\n",
        "X_train, X_test, Y_train, Y_test = train_test_split(X, Y, train_size = 0.8, random_state = 0)\n"
      ],
      "execution_count": 0,
      "outputs": []
    },
    {
      "cell_type": "markdown",
      "metadata": {
        "id": "kmKRrNkv1duV",
        "colab_type": "text"
      },
      "source": [
        "Train dữ liệu"
      ]
    },
    {
      "cell_type": "code",
      "metadata": {
        "id": "enwl4ZVjxqXI",
        "colab_type": "code",
        "colab": {}
      },
      "source": [
        "from sklearn.linear_model import LinearRegression\n",
        "\n",
        "lin_reg = LinearRegression()\n",
        "lin_reg.fit(X_train, Y_train)\n",
        "\n",
        "Y_train_pred = lin_reg.predict(X_train)\n",
        "Y_test_pred = lin_reg.predict(X_test)\n"
      ],
      "execution_count": 0,
      "outputs": []
    },
    {
      "cell_type": "markdown",
      "metadata": {
        "id": "FazlwPdX24vq",
        "colab_type": "text"
      },
      "source": [
        "*Điểm* training"
      ]
    },
    {
      "cell_type": "code",
      "metadata": {
        "id": "EQEQo-0axtl-",
        "colab_type": "code",
        "outputId": "775e6a61-6c1b-483a-847f-7a63f55f09ef",
        "colab": {
          "base_uri": "https://localhost:8080/",
          "height": 54
        }
      },
      "source": [
        "from sklearn.metrics import r2_score\n",
        "print(r2_score(Y_train, Y_train_pred))\n",
        "print(r2_score(Y_test, Y_test_pred))\n"
      ],
      "execution_count": 0,
      "outputs": [
        {
          "output_type": "stream",
          "text": [
            "0.9976304661685358\n",
            "0.9974404167783946\n"
          ],
          "name": "stdout"
        }
      ]
    }
  ]
}