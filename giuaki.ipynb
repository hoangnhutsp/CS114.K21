{
  "nbformat": 4,
  "nbformat_minor": 0,
  "metadata": {
    "colab": {
      "name": "giuaki.ipynb",
      "provenance": [],
      "collapsed_sections": [],
      "authorship_tag": "ABX9TyOWjzhGK1LrxIJZlZV8yyey",
      "include_colab_link": true
    },
    "kernelspec": {
      "name": "python3",
      "display_name": "Python 3"
    }
  },
  "cells": [
    {
      "cell_type": "markdown",
      "metadata": {
        "id": "view-in-github",
        "colab_type": "text"
      },
      "source": [
        "<a href=\"https://colab.research.google.com/github/hoangnhutsp/CS114.K21/blob/master/giuaki.ipynb\" target=\"_parent\"><img src=\"https://colab.research.google.com/assets/colab-badge.svg\" alt=\"Open In Colab\"/></a>"
      ]
    },
    {
      "cell_type": "code",
      "metadata": {
        "id": "MI32O_b3rTSM",
        "colab_type": "code",
        "colab": {
          "base_uri": "https://localhost:8080/",
          "height": 126
        },
        "outputId": "5e79ed0c-1edd-4686-a81b-4edcc8534c4a"
      },
      "source": [
        "!git clone \"https://github.com/hoangnhutsp/CS114.K21.git\"\n",
        "\n"
      ],
      "execution_count": 2,
      "outputs": [
        {
          "output_type": "stream",
          "text": [
            "Cloning into 'CS114.K21'...\n",
            "remote: Enumerating objects: 12, done.\u001b[K\n",
            "remote: Counting objects: 100% (12/12), done.\u001b[K\n",
            "remote: Compressing objects: 100% (8/8), done.\u001b[K\n",
            "remote: Total 12 (delta 1), reused 0 (delta 0), pack-reused 0\u001b[K\n",
            "Unpacking objects: 100% (12/12), done.\n"
          ],
          "name": "stdout"
        }
      ]
    },
    {
      "cell_type": "code",
      "metadata": {
        "id": "J5-dnCYhyOAd",
        "colab_type": "code",
        "colab": {
          "base_uri": "https://localhost:8080/",
          "height": 35
        },
        "outputId": "ec682ea8-bd56-4010-daa0-7b45d629379e"
      },
      "source": [
        "cd CS114.K21/"
      ],
      "execution_count": 4,
      "outputs": [
        {
          "output_type": "stream",
          "text": [
            "/content/CS114.K21\n"
          ],
          "name": "stdout"
        }
      ]
    },
    {
      "cell_type": "code",
      "metadata": {
        "id": "f5v4SmEExlnC",
        "colab_type": "code",
        "colab": {}
      },
      "source": [
        "import pandas as pd"
      ],
      "execution_count": 0,
      "outputs": []
    },
    {
      "cell_type": "code",
      "metadata": {
        "id": "-Fv62l8nxnC4",
        "colab_type": "code",
        "colab": {}
      },
      "source": [
        "data = pd.read_csv('data2.txt', sep = ',', header = None)\n",
        "data.columns = ['Size', 'Time']\n",
        "\n",
        "X = data.iloc[:, 0].values.reshape(-1, 1)\n",
        "Y = data.iloc[:, 1]"
      ],
      "execution_count": 0,
      "outputs": []
    },
    {
      "cell_type": "code",
      "metadata": {
        "id": "E3EKmV9dxolF",
        "colab_type": "code",
        "colab": {}
      },
      "source": [
        "from sklearn.model_selection import train_test_split\n",
        "X_train, X_test, Y_train, Y_test = train_test_split(X, Y, train_size = 0.8, random_state = 0)\n"
      ],
      "execution_count": 0,
      "outputs": []
    },
    {
      "cell_type": "code",
      "metadata": {
        "id": "enwl4ZVjxqXI",
        "colab_type": "code",
        "colab": {}
      },
      "source": [
        "from sklearn.linear_model import LinearRegression\n",
        "\n",
        "lin_reg = LinearRegression()\n",
        "lin_reg.fit(X_train, Y_train)\n",
        "\n",
        "Y_train_pred = lin_reg.predict(X_train)\n",
        "Y_test_pred = lin_reg.predict(X_test)\n"
      ],
      "execution_count": 0,
      "outputs": []
    },
    {
      "cell_type": "code",
      "metadata": {
        "id": "TGWPAbjexsYP",
        "colab_type": "code",
        "colab": {}
      },
      "source": [
        "import matplotlib.pyplot as plt\n",
        "\n",
        "plt.scatter(X_train, Y_train, color = 'red')\n",
        "plt.title('Size vs Time')\n",
        "plt.xlabel('Size')\n",
        "plt.ylabel('Time (s)')\n",
        "plt.show()\n",
        "\n",
        "plt.scatter(X_train, Y_train, color = 'red')\n",
        "plt.plot(X_train, Y_train_pred, color = 'blue')\n",
        "plt.title('Size vs Time')\n",
        "plt.xlabel('Size')\n",
        "plt.ylabel('Time (s)')\n",
        "plt.show()\n",
        "\n",
        "plt.scatter(X_test, Y_test, color = 'red')\n",
        "plt.plot(X_train, Y_train_pred, color = 'blue')\n",
        "plt.scatter(X_test, Y_test_pred, color = 'black')\n",
        "plt.title('Size vs Time')\n",
        "plt.xlabel('Size')\n",
        "plt.ylabel('Time (s)')\n",
        "plt.show()"
      ],
      "execution_count": 0,
      "outputs": []
    },
    {
      "cell_type": "code",
      "metadata": {
        "id": "EQEQo-0axtl-",
        "colab_type": "code",
        "colab": {}
      },
      "source": [
        "from sklearn.metrics import r2_score\n",
        "print(r2_score(Y_train, Y_train_pred))\n",
        "print(r2_score(Y_test, Y_test_pred))\n"
      ],
      "execution_count": 0,
      "outputs": []
    }
  ]
}