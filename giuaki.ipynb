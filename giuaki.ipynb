{
  "nbformat": 4,
  "nbformat_minor": 0,
  "metadata": {
    "colab": {
      "name": "giuaki.ipynb",
      "provenance": [],
      "collapsed_sections": [],
      "authorship_tag": "ABX9TyMnmtEZTNL5wywh7kvIkOeY",
      "include_colab_link": true
    },
    "kernelspec": {
      "name": "python3",
      "display_name": "Python 3"
    }
  },
  "cells": [
    {
      "cell_type": "markdown",
      "metadata": {
        "id": "view-in-github",
        "colab_type": "text"
      },
      "source": [
        "<a href=\"https://colab.research.google.com/github/hoangnhutsp/CS114.K21/blob/master/giuaki.ipynb\" target=\"_parent\"><img src=\"https://colab.research.google.com/assets/colab-badge.svg\" alt=\"Open In Colab\"/></a>"
      ]
    },
    {
      "cell_type": "markdown",
      "metadata": {
        "id": "2KkNTMw3zWd2",
        "colab_type": "text"
      },
      "source": [
        "# **Up các file lên github**\n",
        "# **Load dữ liệu từ github**"
      ]
    },
    {
      "cell_type": "code",
      "metadata": {
        "id": "MI32O_b3rTSM",
        "colab_type": "code",
        "outputId": "b657054f-d6c1-4556-e0a9-8a7b4991da40",
        "colab": {
          "base_uri": "https://localhost:8080/",
          "height": 126
        }
      },
      "source": [
        "!git clone \"https://github.com/hoangnhutsp/CS114.K21.git\"\n",
        "\n"
      ],
      "execution_count": 6,
      "outputs": [
        {
          "output_type": "stream",
          "text": [
            "Cloning into 'CS114.K21'...\n",
            "remote: Enumerating objects: 27, done.\u001b[K\n",
            "remote: Counting objects:   3% (1/27)\u001b[K\rremote: Counting objects:   7% (2/27)\u001b[K\rremote: Counting objects:  11% (3/27)\u001b[K\rremote: Counting objects:  14% (4/27)\u001b[K\rremote: Counting objects:  18% (5/27)\u001b[K\rremote: Counting objects:  22% (6/27)\u001b[K\rremote: Counting objects:  25% (7/27)\u001b[K\rremote: Counting objects:  29% (8/27)\u001b[K\rremote: Counting objects:  33% (9/27)\u001b[K\rremote: Counting objects:  37% (10/27)\u001b[K\rremote: Counting objects:  40% (11/27)\u001b[K\rremote: Counting objects:  44% (12/27)\u001b[K\rremote: Counting objects:  48% (13/27)\u001b[K\rremote: Counting objects:  51% (14/27)\u001b[K\rremote: Counting objects:  55% (15/27)\u001b[K\rremote: Counting objects:  59% (16/27)\u001b[K\rremote: Counting objects:  62% (17/27)\u001b[K\rremote: Counting objects:  66% (18/27)\u001b[K\rremote: Counting objects:  70% (19/27)\u001b[K\rremote: Counting objects:  74% (20/27)\u001b[K\rremote: Counting objects:  77% (21/27)\u001b[K\rremote: Counting objects:  81% (22/27)\u001b[K\rremote: Counting objects:  85% (23/27)\u001b[K\rremote: Counting objects:  88% (24/27)\u001b[K\rremote: Counting objects:  92% (25/27)\u001b[K\rremote: Counting objects:  96% (26/27)\u001b[K\rremote: Counting objects: 100% (27/27)\u001b[K\rremote: Counting objects: 100% (27/27), done.\u001b[K\n",
            "remote: Compressing objects: 100% (23/23), done.\u001b[K\n",
            "remote: Total 27 (delta 10), reused 0 (delta 0), pack-reused 0\u001b[K\n",
            "Unpacking objects: 100% (27/27), done.\n"
          ],
          "name": "stdout"
        }
      ]
    },
    {
      "cell_type": "markdown",
      "metadata": {
        "id": "Oq1kH0Ez8Q8s",
        "colab_type": "text"
      },
      "source": [
        "# **Data sẽ xuất hiện trong thư mục CS114.K21**"
      ]
    },
    {
      "cell_type": "code",
      "metadata": {
        "id": "J5-dnCYhyOAd",
        "colab_type": "code",
        "outputId": "468c4536-7ba0-4b6c-e9e0-4dc5258d909b",
        "colab": {
          "base_uri": "https://localhost:8080/",
          "height": 54
        }
      },
      "source": [
        "cd CS114.K21/"
      ],
      "execution_count": 8,
      "outputs": [
        {
          "output_type": "stream",
          "text": [
            "[Errno 2] No such file or directory: 'CS114.K21/'\n",
            "/content/CS114.K21/CS114.K21\n"
          ],
          "name": "stdout"
        }
      ]
    },
    {
      "cell_type": "markdown",
      "metadata": {
        "id": "mLtk8nLo8YvD",
        "colab_type": "text"
      },
      "source": [
        "# **Import các thư viện cần thiết**"
      ]
    },
    {
      "cell_type": "code",
      "metadata": {
        "id": "f5v4SmEExlnC",
        "colab_type": "code",
        "colab": {}
      },
      "source": [
        "import pandas as pd\n",
        "import matplotlib.pyplot as plt"
      ],
      "execution_count": 0,
      "outputs": []
    },
    {
      "cell_type": "markdown",
      "metadata": {
        "id": "SfAuRJoD8g7o",
        "colab_type": "text"
      },
      "source": [
        "# **Xử lý dữ liệu**"
      ]
    },
    {
      "cell_type": "code",
      "metadata": {
        "id": "-Fv62l8nxnC4",
        "colab_type": "code",
        "colab": {}
      },
      "source": [
        "data = pd.read_csv('data2.txt', sep = ',', header = None)\n",
        "data.columns = ['Size', 'Time']\n",
        "\n",
        "X = data.iloc[:, 0].values.reshape(-1, 1)\n",
        "Y = data.iloc[:, 1]"
      ],
      "execution_count": 0,
      "outputs": []
    },
    {
      "cell_type": "markdown",
      "metadata": {
        "id": "wlmxyve104yQ",
        "colab_type": "text"
      },
      "source": [
        "# **In dữ liệu vừa xử lý**"
      ]
    },
    {
      "cell_type": "code",
      "metadata": {
        "id": "6_p4Blwe0t70",
        "colab_type": "code",
        "outputId": "1177bcab-7fec-4b0d-c2a7-773f1a1967d4",
        "colab": {
          "base_uri": "https://localhost:8080/",
          "height": 279
        }
      },
      "source": [
        "plt.plot(X, Y, 'ro')\n",
        "plt.xlabel('size')\n",
        "plt.ylabel('time')\n",
        "plt.show()"
      ],
      "execution_count": 13,
      "outputs": [
        {
          "output_type": "display_data",
          "data": {
            "image/png": "[encoded data removed]",
            "text/plain": [
              "<Figure size 432x288 with 1 Axes>"
            ]
          },
          "metadata": {
            "tags": [],
            "needs_background": "light"
          }
        }
      ]
    },
    {
      "cell_type": "markdown",
      "metadata": {
        "id": "lDjHvZcX1Bv6",
        "colab_type": "text"
      },
      "source": [
        "# **Chia dữ liệu thành tập train và test**\n"
      ]
    },
    {
      "cell_type": "code",
      "metadata": {
        "id": "E3EKmV9dxolF",
        "colab_type": "code",
        "colab": {}
      },
      "source": [
        "from sklearn.model_selection import train_test_split\n",
        "\n",
        "X_train, X_test, Y_train, Y_test = train_test_split(X, Y, train_size = 0.8, random_state = 0)\n"
      ],
      "execution_count": 0,
      "outputs": []
    },
    {
      "cell_type": "markdown",
      "metadata": {
        "id": "kmKRrNkv1duV",
        "colab_type": "text"
      },
      "source": [
        "# **Train dữ liệu**"
      ]
    },
    {
      "cell_type": "code",
      "metadata": {
        "id": "enwl4ZVjxqXI",
        "colab_type": "code",
        "colab": {}
      },
      "source": [
        "from sklearn.linear_model import LinearRegression\n",
        "\n",
        "lin_reg = LinearRegression()\n",
        "lin_reg.fit(X_train, Y_train)\n",
        "\n",
        "Y_train_pred = lin_reg.predict(X_train)\n",
        "Y_test_pred = lin_reg.predict(X_test)\n"
      ],
      "execution_count": 0,
      "outputs": []
    },
    {
      "cell_type": "markdown",
      "metadata": {
        "id": "FazlwPdX24vq",
        "colab_type": "text"
      },
      "source": [
        "# **Kết quả training**"
      ]
    },
    {
      "cell_type": "code",
      "metadata": {
        "id": "EQEQo-0axtl-",
        "colab_type": "code",
        "outputId": "775e6a61-6c1b-483a-847f-7a63f55f09ef",
        "colab": {
          "base_uri": "https://localhost:8080/",
          "height": 54
        }
      },
      "source": [
        "from sklearn.metrics import r2_score\n",
        "print(r2_score(Y_train, Y_train_pred))\n",
        "print(r2_score(Y_test, Y_test_pred))\n"
      ],
      "execution_count": 0,
      "outputs": [
        {
          "output_type": "stream",
          "text": [
            "0.9976304661685358\n",
            "0.9974404167783946\n"
          ],
          "name": "stdout"
        }
      ]
    }
  ]
}