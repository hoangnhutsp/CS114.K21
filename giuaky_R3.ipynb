{
  "nbformat": 4,
  "nbformat_minor": 0,
  "metadata": {
    "colab": {
      "name": "giuaky_R3.ipynb",
      "provenance": [],
      "authorship_tag": "ABX9TyOuFmTi8nzf82/ePyg/lGsi",
      "include_colab_link": true
    },
    "kernelspec": {
      "name": "python3",
      "display_name": "Python 3"
    }
  },
  "cells": [
    {
      "cell_type": "markdown",
      "metadata": {
        "id": "view-in-github",
        "colab_type": "text"
      },
      "source": [
        "<a href=\"https://colab.research.google.com/github/hoangnhutsp/CS114.K21/blob/master/giuaky_R3.ipynb\" target=\"_parent\"><img src=\"https://colab.research.google.com/assets/colab-badge.svg\" alt=\"Open In Colab\"/></a>"
      ]
    },
    {
      "cell_type": "code",
      "metadata": {
        "id": "LWKVlyrQ3zQP",
        "colab_type": "code",
        "colab": {}
      },
      "source": [
        "!git clone \"https://github.com/hoangnhutsp/CS114.K21.git\"\n"
      ],
      "execution_count": 0,
      "outputs": []
    },
    {
      "cell_type": "code",
      "metadata": {
        "id": "tGYWJuiQ4ePr",
        "colab_type": "code",
        "colab": {}
      },
      "source": [
        "cd CS114.K21/\n"
      ],
      "execution_count": 0,
      "outputs": []
    },
    {
      "cell_type": "code",
      "metadata": {
        "id": "i_4gh02c4fvh",
        "colab_type": "code",
        "colab": {}
      },
      "source": [
        "import pandas as pd\n"
      ],
      "execution_count": 0,
      "outputs": []
    },
    {
      "cell_type": "code",
      "metadata": {
        "id": "_maF06ep4hqP",
        "colab_type": "code",
        "colab": {}
      },
      "source": [
        "data = pd.read_csv('data2.txt', sep = ',', header = None)\n",
        "data.columns = ['Size', 'Time']\n",
        "\n",
        "X = data.iloc[:, 0].values.reshape(-1, 1)\n",
        "Y = data.iloc[:, 1]"
      ],
      "execution_count": 0,
      "outputs": []
    },
    {
      "cell_type": "code",
      "metadata": {
        "id": "egn1OhGl4jyC",
        "colab_type": "code",
        "colab": {}
      },
      "source": [
        "plt.plot(X, Y, 'ro')\n",
        "plt.xlabel('SIZE')\n",
        "plt.ylabel('TIME')\n",
        "plt.show()"
      ],
      "execution_count": 0,
      "outputs": []
    },
    {
      "cell_type": "code",
      "metadata": {
        "id": "M_wPP_mh4l_S",
        "colab_type": "code",
        "colab": {}
      },
      "source": [
        "from sklearn.model_selection import train_test_split\n",
        "\n",
        "X_train, X_test, Y_train, Y_test = train_test_split(X, Y, train_size = 0.8, random_state = 0)\n"
      ],
      "execution_count": 0,
      "outputs": []
    },
    {
      "cell_type": "code",
      "metadata": {
        "id": "_ysTARoJ4n7A",
        "colab_type": "code",
        "colab": {}
      },
      "source": [
        "from sklearn.linear_model import LinearRegression\n",
        "\n",
        "lin_reg = LinearRegression()\n",
        "lin_reg.fit(X_train, Y_train)\n",
        "\n",
        "Y_train_pred = lin_reg.predict(X_train)\n",
        "Y_test_pred = lin_reg.predict(X_test)"
      ],
      "execution_count": 0,
      "outputs": []
    },
    {
      "cell_type": "code",
      "metadata": {
        "id": "IVjAsG-R4pOS",
        "colab_type": "code",
        "colab": {}
      },
      "source": [
        "\n",
        "from sklearn.metrics import r2_score\n",
        "print(r2_score(Y_train, Y_train_pred))\n",
        "print(r2_score(Y_test, Y_test_pred))"
      ],
      "execution_count": 0,
      "outputs": []
    }
  ]
}